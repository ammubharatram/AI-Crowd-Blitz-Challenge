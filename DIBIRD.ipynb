{
  "nbformat": 4,
  "nbformat_minor": 0,
  "metadata": {
    "kernelspec": {
      "display_name": "Python 3",
      "language": "python",
      "name": "python3"
    },
    "language_info": {
      "codemirror_mode": {
        "name": "ipython",
        "version": 3
      },
      "file_extension": ".py",
      "mimetype": "text/x-python",
      "name": "python",
      "nbconvert_exporter": "python",
      "pygments_lexer": "ipython3",
      "version": "3.7.3"
    },
    "colab": {
      "name": "761175b71c995e5a44a0877daf9e0597",
      "provenance": [],
      "include_colab_link": true
    }
  },
  "cells": [
    {
      "cell_type": "markdown",
      "metadata": {
        "id": "view-in-github",
        "colab_type": "text"
      },
      "source": [
        "<a href=\"https://colab.research.google.com/github/ammubharatram/AI-Crowd-Blitz-Challenge/blob/master/DIBIRD.ipynb\" target=\"_parent\"><img src=\"https://colab.research.google.com/assets/colab-badge.svg\" alt=\"Open In Colab\"/></a>"
      ]
    },
    {
      "cell_type": "markdown",
      "metadata": {
        "id": "OMlv7nOx4IuE",
        "colab_type": "text"
      },
      "source": [
        "# Baseline for DIBRD Challenge on AIcrowd\n",
        "#### Author : Shubham Sharma"
      ]
    },
    {
      "cell_type": "markdown",
      "metadata": {
        "id": "GlkCSFpm4IuF",
        "colab_type": "text"
      },
      "source": [
        "## To open this notebook on Google Computing platform Colab, click below!\n"
      ]
    },
    {
      "cell_type": "markdown",
      "metadata": {
        "id": "NuZQUnRc4IuH",
        "colab_type": "text"
      },
      "source": [
        "[![Open In Colab](https://colab.research.google.com/assets/colab-badge.svg)](https://colab.research.google.com/gist/aicrowd-bot/761175b71c995e5a44a0877daf9e0597)\n"
      ]
    },
    {
      "cell_type": "markdown",
      "metadata": {
        "id": "FssrJZzh4IuI",
        "colab_type": "text"
      },
      "source": [
        "## Download Necessary Packages"
      ]
    },
    {
      "cell_type": "code",
      "metadata": {
        "id": "2alRw-cF4IuJ",
        "colab_type": "code",
        "colab": {}
      },
      "source": [
        "import sys\n",
        "!{sys.executable} -m pip install numpy\n",
        "!{sys.executable} -m pip install pandas\n",
        "!{sys.executable} -m pip install scikit-learn"
      ],
      "execution_count": 0,
      "outputs": []
    },
    {
      "cell_type": "markdown",
      "metadata": {
        "id": "v5unnNB04IuQ",
        "colab_type": "text"
      },
      "source": [
        "## Download dataset"
      ]
    },
    {
      "cell_type": "markdown",
      "metadata": {
        "id": "7_H5qP7E4IuR",
        "colab_type": "text"
      },
      "source": [
        "The first step is to download out train test data. We will be training a classifier on the train data and make predictions on test data. We submit our predictions"
      ]
    },
    {
      "cell_type": "code",
      "metadata": {
        "id": "t27xk1eV4IuS",
        "colab_type": "code",
        "colab": {}
      },
      "source": [
        "!rm -rf data\n",
        "!mkdir data\n",
        "!wget https://s3.eu-central-1.wasabisys.com/aicrowd-practice-challenges/public/dibrd/v0.1/train.csv -O data/train.csv\n",
        "!wget https://s3.eu-central-1.wasabisys.com/aicrowd-practice-challenges/public/dibrd/v0.1/test.csv -O data/test.csv"
      ],
      "execution_count": 0,
      "outputs": []
    },
    {
      "cell_type": "markdown",
      "metadata": {
        "id": "6A-hV-k84IuX",
        "colab_type": "text"
      },
      "source": [
        "\n",
        "## Import packages"
      ]
    },
    {
      "cell_type": "code",
      "metadata": {
        "id": "zqxmZ2-n4IuY",
        "colab_type": "code",
        "colab": {}
      },
      "source": [
        "import pandas as pd\n",
        "import numpy as np\n",
        "from sklearn.model_selection import train_test_split\n",
        "from sklearn.linear_model import LogisticRegression\n",
        "from sklearn.svm import SVC\n",
        "from sklearn.metrics import f1_score,precision_score,recall_score,accuracy_score"
      ],
      "execution_count": 0,
      "outputs": []
    },
    {
      "cell_type": "markdown",
      "metadata": {
        "id": "L7Tk2gid4Iud",
        "colab_type": "text"
      },
      "source": [
        "## Load Data\n",
        "We use pandas library to load our data. Pandas loads them into dataframes which helps us analyze our data easily. Learn more about it [here](https://www.tutorialspoint.com/python_data_science/python_pandas.htm)"
      ]
    },
    {
      "cell_type": "code",
      "metadata": {
        "id": "JToV110o4Iue",
        "colab_type": "code",
        "colab": {}
      },
      "source": [
        "train_data_path = \"data/train.csv\" #path where data is stored"
      ],
      "execution_count": 0,
      "outputs": []
    },
    {
      "cell_type": "code",
      "metadata": {
        "id": "cKVDYlGH4Iuh",
        "colab_type": "code",
        "colab": {}
      },
      "source": [
        "train_data = pd.read_csv(train_data_path,header=None) #load data in dataframe using pandas"
      ],
      "execution_count": 0,
      "outputs": []
    },
    {
      "cell_type": "markdown",
      "metadata": {
        "id": "3PnrZjVS4Iuk",
        "colab_type": "text"
      },
      "source": [
        "## Visualise the Dataset"
      ]
    },
    {
      "cell_type": "code",
      "metadata": {
        "id": "PkmVf9c04Iul",
        "colab_type": "code",
        "colab": {}
      },
      "source": [
        "train_data.head()"
      ],
      "execution_count": 0,
      "outputs": []
    },
    {
      "cell_type": "markdown",
      "metadata": {
        "id": "Rb_o1Hdl4Iuq",
        "colab_type": "text"
      },
      "source": [
        "You can see the columns goes from 0 to 19, where columns from 0 to 18 represents features extracted from the image set and last column represents the type of patient i.e 1 if if signs of Diabetic Retinopathy is present else 0."
      ]
    },
    {
      "cell_type": "markdown",
      "metadata": {
        "id": "PTCyXzgx4Iur",
        "colab_type": "text"
      },
      "source": [
        "## Split Data into Train and Validation\n",
        "Now we want to see how well our classifier is performing, but we dont have the test data labels with us to check. What do we do ? So we split our dataset into train and validation. The idea is that we test our classifier on validation set in order to get an idea of how well our classifier works. This way we can also ensure that we dont [overfit](https://machinelearningmastery.com/overfitting-and-underfitting-with-machine-learning-algorithms/) on the train dataset. There are many ways to do validation like [k-fold](https://machinelearningmastery.com/k-fold-cross-validation/),[leave one out](https://en.wikipedia.org/wiki/Cross-validation_(statistics), etc"
      ]
    },
    {
      "cell_type": "code",
      "metadata": {
        "id": "tuZYorfc4Ius",
        "colab_type": "code",
        "colab": {}
      },
      "source": [
        "X_train, X_val= train_test_split(train_data, test_size=0.2, random_state=42) "
      ],
      "execution_count": 0,
      "outputs": []
    },
    {
      "cell_type": "markdown",
      "metadata": {
        "id": "0nmp3Xug4Iuw",
        "colab_type": "text"
      },
      "source": [
        "Here we have selected the size of the testing data to be 20% of the total data. You can change it and see what effect it has on the accuracies. To learn more about the train_test_split function [click here](https://scikit-learn.org/stable/modules/generated/sklearn.model_selection.train_test_split.html)."
      ]
    },
    {
      "cell_type": "markdown",
      "metadata": {
        "id": "9zQJPPXx4Iux",
        "colab_type": "text"
      },
      "source": [
        "Now, since we have our data splitted into train and validation sets, we need to get the label separated from the data."
      ]
    },
    {
      "cell_type": "code",
      "metadata": {
        "id": "16thL0qB4Iuy",
        "colab_type": "code",
        "colab": {}
      },
      "source": [
        "X_train,y_train = X_train.iloc[:,:-1],X_train.iloc[:,-1]\n",
        "X_val,y_val = X_val.iloc[:,:-1],X_val.iloc[:,-1]\n"
      ],
      "execution_count": 0,
      "outputs": []
    },
    {
      "cell_type": "markdown",
      "metadata": {
        "id": "1sSvKpEA4Iu3",
        "colab_type": "text"
      },
      "source": [
        "## Define the Classifier\n",
        "Now we come to the juicy part. We have fixed our data and now we train a classifier. The classifier will learn the function by looking at the inputs and corresponding outputs. There are a ton of classifiers to choose from some being [Logistic Regression](https://towardsdatascience.com/logistic-regression-detailed-overview-46c4da4303bc), [SVM](https://towardsdatascience.com/support-vector-machine-introduction-to-machine-learning-algorithms-934a444fca47), [Random Forests](https://towardsdatascience.com/support-vector-machine-introduction-to-machine-learning-algorithms-934a444fca47), [Decision Trees](https://towardsdatascience.com/decision-trees-in-machine-learning-641b9c4e8052), etc.   \n",
        "Tip: A good model doesnt depend solely on the classifier but on the features(columns) you choose. So make sure to play with your data and keep only whats important. "
      ]
    },
    {
      "cell_type": "code",
      "metadata": {
        "id": "QTh5oI024Iu4",
        "colab_type": "code",
        "colab": {}
      },
      "source": [
        "classifier = LogisticRegression(solver = 'lbfgs',multi_class='auto',max_iter=10)"
      ],
      "execution_count": 0,
      "outputs": []
    },
    {
      "cell_type": "markdown",
      "metadata": {
        "id": "ch3rQ2lU4Iu_",
        "colab_type": "text"
      },
      "source": [
        "We have used [Logistic Regression](https://en.wikipedia.org/wiki/Logistic_regression) as a classifier here and set few of the parameteres. But one can set more parameters and increase the performance. To see the list of parameters visit [here](https://scikit-learn.org/stable/modules/generated/sklearn.linear_model.LogisticRegression.html)."
      ]
    },
    {
      "cell_type": "markdown",
      "metadata": {
        "id": "qMCQB4-T4IvA",
        "colab_type": "text"
      },
      "source": [
        "We can also use other classifiers. To read more about sklean classifiers visit [here](https://scikit-learn.org/stable/supervised_learning.html). Try and use other classifiers to see how the performance of your model changes."
      ]
    },
    {
      "cell_type": "markdown",
      "metadata": {
        "id": "H5SiVuly4IvB",
        "colab_type": "text"
      },
      "source": [
        "## Train the classifier"
      ]
    },
    {
      "cell_type": "code",
      "metadata": {
        "id": "ZHeD_VtM4IvB",
        "colab_type": "code",
        "colab": {}
      },
      "source": [
        "classifier.fit(X_train, y_train)\n"
      ],
      "execution_count": 0,
      "outputs": []
    },
    {
      "cell_type": "markdown",
      "metadata": {
        "id": "5IR8Zvz84IvI",
        "colab_type": "text"
      },
      "source": [
        "Got a warning! Dont worry, its just beacuse the number of iteration is very less(defined in the classifier in the above cell).Increase the number of iterations and see if the warning vanishes and also see how the performance changes.Do remember increasing iterations also increases the running time.( Hint: max_iter=500)"
      ]
    },
    {
      "cell_type": "markdown",
      "metadata": {
        "id": "fD6YKNGR4IvJ",
        "colab_type": "text"
      },
      "source": [
        "## Predict on Validation\n",
        "Now we predict our trained classifier on the validation set and evaluate our model# Predict on test set"
      ]
    },
    {
      "cell_type": "code",
      "metadata": {
        "id": "LvQBEjxY4IvK",
        "colab_type": "code",
        "colab": {}
      },
      "source": [
        "y_pred = classifier.predict(X_val)"
      ],
      "execution_count": 0,
      "outputs": []
    },
    {
      "cell_type": "markdown",
      "metadata": {
        "id": "xhx-AGIS4IvO",
        "colab_type": "text"
      },
      "source": [
        "## Evaluate the Performance\n",
        "We use the same metrics as that will be used for the test set.  \n",
        "[F1 score](https://en.wikipedia.org/wiki/F1_score) are the metrics for this challenge"
      ]
    },
    {
      "cell_type": "code",
      "metadata": {
        "id": "7Bai9Ihm4IvP",
        "colab_type": "code",
        "colab": {}
      },
      "source": [
        "precision = precision_score(y_val,y_pred,average='micro')\n",
        "recall = recall_score(y_val,y_pred,average='micro')\n",
        "accuracy = accuracy_score(y_val,y_pred)\n",
        "f1 = f1_score(y_val,y_pred,average='macro')"
      ],
      "execution_count": 0,
      "outputs": []
    },
    {
      "cell_type": "code",
      "metadata": {
        "id": "sj-wOf4A4IvT",
        "colab_type": "code",
        "colab": {}
      },
      "source": [
        "print(\"Accuracy of the model is :\" ,accuracy)\n",
        "print(\"Recall of the model is :\" ,recall)\n",
        "print(\"Precision of the model is :\" ,precision)\n",
        "print(\"F1 score of the model is :\" ,f1)"
      ],
      "execution_count": 0,
      "outputs": []
    },
    {
      "cell_type": "markdown",
      "metadata": {
        "id": "Y_BV-Qxf4IvX",
        "colab_type": "text"
      },
      "source": [
        "# Prediction on Evaluation Set"
      ]
    },
    {
      "cell_type": "markdown",
      "metadata": {
        "id": "V9HgfgmN4IvY",
        "colab_type": "text"
      },
      "source": [
        "## Load Test Set\n",
        "Load the test data now# Load the evaluation data"
      ]
    },
    {
      "cell_type": "code",
      "metadata": {
        "id": "_9_Y3fO14IvY",
        "colab_type": "code",
        "colab": {}
      },
      "source": [
        "final_test_path = \"data/test.csv\"\n",
        "final_test = pd.read_csv(final_test_path,header=None)"
      ],
      "execution_count": 0,
      "outputs": []
    },
    {
      "cell_type": "markdown",
      "metadata": {
        "id": "Dhnbo_kG4Ivc",
        "colab_type": "text"
      },
      "source": [
        "## Predict Test Set\n",
        "Time for the moment of truth! Predict on test set and time to make the submission."
      ]
    },
    {
      "cell_type": "code",
      "metadata": {
        "id": "5635Z7OH4Ivd",
        "colab_type": "code",
        "colab": {}
      },
      "source": [
        "submission = classifier.predict(final_test)"
      ],
      "execution_count": 0,
      "outputs": []
    },
    {
      "cell_type": "markdown",
      "metadata": {
        "id": "5nS7Jk5V4Ivh",
        "colab_type": "text"
      },
      "source": [
        "## Save the prediction to csv"
      ]
    },
    {
      "cell_type": "code",
      "metadata": {
        "id": "7eTJ12jh4Ivi",
        "colab_type": "code",
        "colab": {}
      },
      "source": [
        "submission = pd.DataFrame(submission)\n",
        "submission.to_csv('/tmp/submission.csv',header=['label'],index=False)"
      ],
      "execution_count": 0,
      "outputs": []
    },
    {
      "cell_type": "markdown",
      "metadata": {
        "id": "dCYeTqfg4Ivk",
        "colab_type": "text"
      },
      "source": [
        "Note: Do take a look at the submission format.The submission file should contain a header.For eg here it is \"label\". "
      ]
    },
    {
      "cell_type": "markdown",
      "metadata": {
        "id": "SM65Y9bN4Ivl",
        "colab_type": "text"
      },
      "source": [
        "## To download the generated csv in colab run the below command"
      ]
    },
    {
      "cell_type": "code",
      "metadata": {
        "id": "JZMUnoGV4Ivl",
        "colab_type": "code",
        "colab": {}
      },
      "source": [
        "from google.colab import files\n",
        "files.download('/tmp/submission.csv') "
      ],
      "execution_count": 0,
      "outputs": []
    },
    {
      "cell_type": "markdown",
      "metadata": {
        "id": "YY_sDvwp4Ivn",
        "colab_type": "text"
      },
      "source": [
        "### Go to [platform](https://www.aicrowd.com/challenges/aicrowd-blitz-may-2020/problems/dibrd). Participate in the challenge and submit the submission.csv generated."
      ]
    }
  ]
}